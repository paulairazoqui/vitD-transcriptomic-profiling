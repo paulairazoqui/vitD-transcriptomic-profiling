{
 "cells": [
  {
   "cell_type": "markdown",
   "id": "8a800147",
   "metadata": {},
   "source": [
    "# Exploratory Data Analysis of Vitamin D-Related Transcriptional Signatures\n",
    "\n",
    "This notebook presents the exploratory data analysis (EDA) of transcriptional responses to vitamin D and its analogs, based on data from the LINCS L1000 dataset. The dataset includes gene expression signatures from human cell lines exposed to different vitamin D-related compounds across various doses and time points.\n",
    "\n",
    "The goal of this analysis is to characterize the diversity and distribution of the selected signatures, examine the experimental conditions (cell lines, doses, exposure times), and identify preliminary patterns in gene expression profiles that may inform subsequent modeling and biological interpretation."
   ]
  },
  {
   "cell_type": "code",
   "execution_count": null,
   "id": "25053728",
   "metadata": {},
   "outputs": [],
   "source": [
    "# Import libraries for data manipulation, visualization, and dimensionality reduction\n",
    "import pandas as pd\n",
    "import numpy as np\n",
    "import matplotlib.pyplot as plt\n",
    "import seaborn as sns\n",
    "\n",
    "from sklearn.decomposition import PCA\n",
    "from sklearn.preprocessing import StandardScaler"
   ]
  },
  {
   "cell_type": "code",
   "execution_count": null,
   "id": "4541cccf",
   "metadata": {},
   "outputs": [],
   "source": [
    "# Configuración de visualización\n",
    "sns.set(style=\"whitegrid\")\n",
    "plt.rcParams[\"figure.figsize\"] = (8, 6)"
   ]
  },
  {
   "cell_type": "code",
   "execution_count": null,
   "id": "b107d477",
   "metadata": {},
   "outputs": [],
   "source": [
    "# Paths to pre-filtered files\n",
    "EXPR_PATH = \"../processed_data/vitD_expression_matrix.csv\"\n",
    "META_PATH = \"../processed_data/siginfo_vitD_filtered.csv\"\n",
    "\n",
    "# Load expression matrix (genes x signatures)\n",
    "exp_df = pd.read_csv(EXPR_PATH, index_col=0)\n",
    "\n",
    "# Load metadata associated with the signatures\n",
    "meta_df = pd.read_csv(META_PATH, index_col=\"sig_id\")\n",
    "\n",
    "# Display shapes\n",
    "print(\"Expression matrix shape:\", exp_df.shape)\n",
    "print(\"Metadata shape:\", meta_df.shape)\n"
   ]
  },
  {
   "cell_type": "code",
   "execution_count": null,
   "id": "d03876cf",
   "metadata": {},
   "outputs": [],
   "source": [
    "# Confirm all signature IDs in metadata are present in the expression matrix\n",
    "assert set(meta_df.index).issubset(set(exp_df.columns)), \"Some sig_id in metadata are missing from expression matrix\"\n",
    "\n",
    "# Reorder expression matrix columns to match metadata index\n",
    "exp_df = exp_df[meta_df.index]\n",
    "\n",
    "# Final confirmation\n",
    "print(\"Column order aligned:\", all(exp_df.columns == meta_df.index))"
   ]
  },
  {
   "cell_type": "code",
   "execution_count": null,
   "id": "6923585f",
   "metadata": {},
   "outputs": [],
   "source": [
    "# Display a subset of the expression matrix to inspect gene-signature structure\n",
    "display(exp_df.iloc[:5, :5])\n",
    "\n",
    "# Display the first rows of the metadata to examine available annotations\n",
    "display(meta_df.head())\n",
    "\n",
    "# Calculate the number of unique compounds present in the filtered dataset\n",
    "n_compounds = meta_df[\"cmap_name\"].nunique()\n",
    "\n",
    "# Summarize the number of transcriptional signatures available per compound\n",
    "compound_counts = meta_df[\"cmap_name\"].value_counts()\n",
    "display(compound_counts)"
   ]
  },
  {
   "cell_type": "markdown",
   "id": "7664d54b",
   "metadata": {},
   "source": [
    "---"
   ]
  },
  {
   "cell_type": "markdown",
   "id": "64a23b31",
   "metadata": {},
   "source": [
    "## Overview of Vitamin D Signature Annotations\n",
    "\n",
    "### 🧠 General structure and data types"
   ]
  },
  {
   "cell_type": "code",
   "execution_count": null,
   "id": "e277e7e8",
   "metadata": {},
   "outputs": [],
   "source": [
    "# Overview of the metadata DataFrame\n",
    "meta_df.info()"
   ]
  },
  {
   "cell_type": "markdown",
   "id": "c98d48a8",
   "metadata": {},
   "source": [
    "### 📏 Summary statistics for numeric columns"
   ]
  },
  {
   "cell_type": "code",
   "execution_count": null,
   "id": "18096b0d",
   "metadata": {},
   "outputs": [],
   "source": [
    "# Descriptive statistics for numeric variables\n",
    "print(meta_df.describe())"
   ]
  },
  {
   "cell_type": "markdown",
   "id": "e73d4a10",
   "metadata": {},
   "source": [
    "### 🔣 Cardinality of categorical variables"
   ]
  },
  {
   "cell_type": "code",
   "execution_count": null,
   "id": "dd20ee1f",
   "metadata": {},
   "outputs": [],
   "source": [
    "# Number of unique values per column\n",
    "meta_df.nunique().sort_values()"
   ]
  },
  {
   "cell_type": "markdown",
   "id": "13e73860",
   "metadata": {},
   "source": [
    "### ⚠️ Missing value check"
   ]
  },
  {
   "cell_type": "code",
   "execution_count": null,
   "id": "2bcfa94b",
   "metadata": {},
   "outputs": [],
   "source": [
    "# Count of missing values per column\n",
    "meta_df.isna().sum().sort_values(ascending=False)"
   ]
  },
  {
   "cell_type": "markdown",
   "id": "aa2f1b6e",
   "metadata": {},
   "source": [
    "### 📌 Signature distribution across key experimental factors"
   ]
  },
  {
   "cell_type": "code",
   "execution_count": null,
   "id": "835c2dab",
   "metadata": {},
   "outputs": [],
   "source": [
    "# Distribution of signatures across cell lines\n",
    "meta_df[\"cell_mfc_name\"].value_counts()\n",
    "\n",
    "# Distribution of signatures across exposure durations\n",
    "meta_df[\"pert_itime\"].value_counts()"
   ]
  },
  {
   "cell_type": "markdown",
   "id": "3b94acaa",
   "metadata": {},
   "source": [
    "This section summarizes the characteristics of the filtered metadata, which includes only signatures related to vitamin D analogs. The dataset was preselected to include:\n",
    "\n",
    "- **7 compounds** of interest\n",
    "- **5 human cell lines**\n",
    "- A single exposure time of **24 hours**\n",
    "\n",
    "As expected, all signatures reflect this uniformity in treatment duration and compound class. The resulting dataset contains **258 transcriptional signatures**, each associated with a set of experimental and quality control annotations (37 columns in total).\n",
    "\n",
    "#### 🧪 Quality control and metadata insights\n",
    "\n",
    "- All signatures have valid values for key fields such as `dose`, `cell line`, and `perturbation type`.\n",
    "- The `Transcriptional Activity Score (tas)` ranges from 0.01 to 0.64, indicating heterogeneity in transcriptional response even among filtered compounds.\n",
    "- `ss_ngene` (number of genes significantly changed) varies widely, from 43 to 646.\n",
    "- The `batch_effect_tstat` and reproducibility scores (`median_recall_*`) show moderate variability, suggesting batch or replicate-level effects worth considering in downstream analysis.\n",
    "\n",
    "#### ⚠️ Missing values\n",
    "\n",
    "Most columns are complete. Only `build_name` is entirely missing, and some metrics related to recall and connectivity have partial missingness, which will be handled accordingly if required.\n",
    "\n",
    "> This metadata summary confirms that the pre-filtering step was correctly applied and that the dataset retains sufficient variability in response quality and intensity to support further exploration.\n",
    "\n",
    "---"
   ]
  },
  {
   "cell_type": "markdown",
   "id": "90691382",
   "metadata": {},
   "source": [
    "## 🧬 Exploratory Analysis of the Gene Expression Matrix\n",
    "\n",
    "### 1. Shape and preview"
   ]
  },
  {
   "cell_type": "code",
   "execution_count": null,
   "id": "9e63e785",
   "metadata": {},
   "outputs": [],
   "source": [
    "print(\"Expression matrix shape (genes × signatures):\", exp_df.shape)\n",
    "print(exp_df.head())"
   ]
  },
  {
   "cell_type": "markdown",
   "id": "4bf6342e",
   "metadata": {},
   "source": [
    "### 2. Summary statistics across all values"
   ]
  },
  {
   "cell_type": "code",
   "execution_count": null,
   "id": "fb0f4e5f",
   "metadata": {},
   "outputs": [],
   "source": [
    "print(\"Summary statistics for expression values:\")\n",
    "display(exp_df.describe())"
   ]
  },
  {
   "cell_type": "markdown",
   "id": "4776dbac",
   "metadata": {},
   "source": [
    "### 3. Distribution of all expression values (flattened)\n"
   ]
  },
  {
   "cell_type": "code",
   "execution_count": null,
   "id": "67240b27",
   "metadata": {},
   "outputs": [],
   "source": [
    "sns.histplot(exp_df.values.flatten(), bins=100, kde=True)\n",
    "plt.title(\"Distribution of Expression Values (All Genes and Signatures)\")\n",
    "plt.xlabel(\"z-score\")\n",
    "plt.ylabel(\"Frequency\")\n",
    "plt.show()"
   ]
  },
  {
   "cell_type": "markdown",
   "id": "49a95da3",
   "metadata": {},
   "source": [
    "### 4. Variance across genes (rows) and signatures (columns)"
   ]
  },
  {
   "cell_type": "code",
   "execution_count": null,
   "id": "f1b0684d",
   "metadata": {},
   "outputs": [],
   "source": [
    "gene_var = exp_df.var(axis=1)\n",
    "sig_var = exp_df.var(axis=0)\n",
    "\n",
    "print(\"Gene-wise variance summary:\")\n",
    "display(gene_var.describe())\n",
    "\n",
    "print(\"Signature-wise variance summary:\")\n",
    "display(sig_var.describe())\n",
    "\n"
   ]
  },
  {
   "cell_type": "markdown",
   "id": "ceabd4cc",
   "metadata": {},
   "source": [
    "### 5. Check for genes with near-zero variance\n"
   ]
  },
  {
   "cell_type": "code",
   "execution_count": null,
   "id": "d3dd36b6",
   "metadata": {},
   "outputs": [],
   "source": [
    "low_var_genes = (gene_var < 1e-5).sum()\n",
    "print(\"Number of genes with near-zero variance:\", low_var_genes)"
   ]
  },
  {
   "cell_type": "markdown",
   "id": "90d82913",
   "metadata": {},
   "source": [
    "This section explores the structure and distribution of the gene expression matrix (`exp_df`) corresponding to the filtered vitamin D-related transcriptional signatures.\n",
    "\n",
    "### 📐 Matrix dimensions\n",
    "\n",
    "The expression matrix contains:\n",
    "- **12,328 genes** (rows)\n",
    "- **258 signatures** (columns), each matching an experimental condition from the metadata.\n",
    "\n",
    "Each value represents a **z-score normalized gene expression level**, as provided by the LINCS L1000 pipeline.\n",
    "\n",
    "### 📊 Summary statistics\n",
    "\n",
    "A preview of the data shows expected values centered around zero, with both up- and down-regulated genes across conditions. Descriptive statistics confirm this distribution:\n",
    "\n",
    "- Expression values range from approximately **-8.48 to +9.56**.\n",
    "- Signature-wise and gene-wise variances are both moderate on average (mean ~0.42).\n",
    "- **No genes** were found with near-zero variance, indicating that all genes carry some signal and no immediate filtering is needed.\n",
    "\n",
    "### 📈 Distribution of expression values\n",
    "\n",
    "The histogram below shows a bell-shaped distribution, consistent with the z-score normalization applied to the data. The central peak is located at 0, and the tails extend in both directions, confirming the presence of genes with both induced and repressed expression across conditions.\n",
    "\n",
    ">This analysis confirms that the expression matrix is well-structured, contains biologically meaningful variation, and is ready for dimensionality reduction or clustering in subsequent steps.\n",
    "\n",
    "---\n"
   ]
  },
  {
   "cell_type": "markdown",
   "id": "2655263f",
   "metadata": {},
   "source": [
    "## 🧪 PCA of Gene Expression Signatures\n",
    "\n",
    "Principal Component Analysis (PCA) was applied to the gene expression matrix to visualize the structure of the 258 vitamin D-related transcriptional signatures.\n",
    "\n",
    "This dimensionality reduction technique allows us to:\n",
    "- Identify potential clustering of signatures by compound or cell line,\n",
    "- Detect outliers or batch effects,\n",
    "- Understand how much variance is captured in low-dimensional projections.\n",
    "\n",
    "The PCA was performed on the **z-score normalized expression matrix** (`exp_df`), already aligned with the metadata."
   ]
  },
  {
   "cell_type": "code",
   "execution_count": null,
   "id": "a910581b",
   "metadata": {},
   "outputs": [],
   "source": [
    "# Standardize expression matrix (genes × signatures)\n",
    "scaler = StandardScaler()\n",
    "exp_scaled = scaler.fit_transform(exp_df.T)  # Transpose to have samples as rows\n",
    "\n",
    "# Perform PCA\n",
    "pca = PCA(n_components=2)\n",
    "pca_result = pca.fit_transform(exp_scaled)\n",
    "\n",
    "# Add PCA results to metadata\n",
    "meta_df[\"PCA1\"] = pca_result[:, 0]\n",
    "meta_df[\"PCA2\"] = pca_result[:, 1]\n",
    "\n",
    "# Plot PCA colored by compound\n",
    "plt.figure(figsize=(8, 6))\n",
    "sns.scatterplot(\n",
    "    data=meta_df,\n",
    "    x=\"PCA1\", y=\"PCA2\",\n",
    "    hue=\"cmap_name\",\n",
    "    palette=\"Set2\",\n",
    "    s=70,\n",
    "    edgecolor=\"black\",\n",
    "    alpha=0.8\n",
    ")\n",
    "plt.title(\"PCA of Vitamin D-Related Gene Expression Signatures\")\n",
    "plt.xlabel(f\"PCA1 ({pca.explained_variance_ratio_[0]*100:.1f}% variance)\")\n",
    "plt.ylabel(f\"PCA2 ({pca.explained_variance_ratio_[1]*100:.1f}% variance)\")\n",
    "plt.legend(title=\"Compound\", bbox_to_anchor=(1.05, 1), loc=\"upper left\")\n",
    "plt.tight_layout()\n",
    "plt.show()\n"
   ]
  },
  {
   "cell_type": "markdown",
   "id": "a414a58a",
   "metadata": {},
   "source": [
    "#### Interpretation of PCA Results\n",
    "\n",
    "The PCA projection of the 258 vitamin D-related transcriptional signatures reveals the following:\n",
    "\n",
    "- **No strong global separation** between compounds is observed, indicating that the overall gene expression profiles are partially overlapping across vitamin D analogs.\n",
    "- Some mild clustering tendencies appear for specific compounds, such as *maxacalcitol* and *paricalcitol*, which show a few more dispersed or distinctive points—suggesting **unique transcriptomic effects** under certain conditions.\n",
    "- The explained variance is relatively low (PCA1: 13.6%, PCA2: 5.4%), consistent with high-dimensional biological data. This suggests that a **large number of components** may be needed to capture the full complexity of variation.\n",
    "\n",
    "> These results suggest that while the compounds share global expression patterns—likely due to their common vitamin D activity—specific outliers may reflect differences in potency, cell type interaction, or downstream pathways activated."
   ]
  },
  {
   "cell_type": "markdown",
   "id": "d04dee74",
   "metadata": {},
   "source": [
    "### PCA Colored by Cell Line\n",
    "\n",
    "To investigate whether cell type explains more variance than compound identity, we re-colored the PCA projection using the `cell_mfc_name` variable."
   ]
  },
  {
   "cell_type": "code",
   "execution_count": null,
   "id": "e0c4ff63",
   "metadata": {},
   "outputs": [],
   "source": [
    "# Plot PCA colored by cell line\n",
    "plt.figure(figsize=(8, 6))\n",
    "sns.scatterplot(\n",
    "    data=meta_df,\n",
    "    x=\"PCA1\", y=\"PCA2\",\n",
    "    hue=\"cell_mfc_name\",\n",
    "    palette=\"Dark2\",\n",
    "    s=70,\n",
    "    edgecolor=\"black\",\n",
    "    alpha=0.8\n",
    ")\n",
    "plt.title(\"PCA of Gene Expression Signatures Colored by Cell Line\")\n",
    "plt.xlabel(f\"PCA1 ({pca.explained_variance_ratio_[0]*100:.1f}% variance)\")\n",
    "plt.ylabel(f\"PCA2 ({pca.explained_variance_ratio_[1]*100:.1f}% variance)\")\n",
    "plt.legend(title=\"Cell Line\", bbox_to_anchor=(1.05, 1), loc=\"upper left\")\n",
    "plt.tight_layout()\n",
    "plt.show()\n"
   ]
  },
  {
   "cell_type": "markdown",
   "id": "49628ff4",
   "metadata": {},
   "source": [
    "#### Interpretation: PCA Colored by Cell Line\n",
    "\n",
    "When the same PCA projection is colored by cell line, a clearer structure emerges:\n",
    "\n",
    "- **PC3 signatures** (orange) form a distinct cluster, mainly in the upper half of the plot, showing a consistent transcriptional pattern across compounds.\n",
    "- **MCF7, A549, U2OS, and HA1E** signatures largely overlap, suggesting more similar expression responses or lower variability among them.\n",
    "- This indicates that **cell type has a stronger effect** on the transcriptional landscape than compound identity alone, at least in the space captured by the first two principal components.\n",
    "\n",
    "> These findings highlight the importance of cellular context in shaping the response to vitamin D analogs, and suggest that stratified analysis by cell line may be necessary in downstream modeling.\n"
   ]
  }
 ],
 "metadata": {
  "kernelspec": {
   "display_name": "vitd_env (3.13.1)",
   "language": "python",
   "name": "python3"
  },
  "language_info": {
   "codemirror_mode": {
    "name": "ipython",
    "version": 3
   },
   "file_extension": ".py",
   "mimetype": "text/x-python",
   "name": "python",
   "nbconvert_exporter": "python",
   "pygments_lexer": "ipython3",
   "version": "3.13.1"
  }
 },
 "nbformat": 4,
 "nbformat_minor": 5
}
