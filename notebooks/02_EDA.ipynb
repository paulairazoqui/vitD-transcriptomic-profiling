{
 "cells": [
  {
   "cell_type": "markdown",
   "id": "8a800147",
   "metadata": {},
   "source": [
    "# Exploratory Data Analysis of Vitamin D-Related Transcriptional Signatures\n",
    "\n",
    "This notebook presents the exploratory data analysis (EDA) of transcriptional responses to vitamin D and its analogs, based on data from the LINCS L1000 dataset. The dataset includes gene expression signatures from human cell lines exposed to different vitamin D-related compounds across various doses and time points.\n",
    "\n",
    "The goal of this analysis is to characterize the diversity and distribution of the selected signatures, examine the experimental conditions (cell lines, doses, exposure times), and identify preliminary patterns in gene expression profiles that may inform subsequent modeling and biological interpretation."
   ]
  },
  {
   "cell_type": "code",
   "execution_count": null,
   "id": "25053728",
   "metadata": {},
   "outputs": [],
   "source": [
    "# Import libraries for data manipulation, visualization, and dimensionality reduction\n",
    "import pandas as pd\n",
    "import numpy as np\n",
    "import matplotlib.pyplot as plt\n",
    "import seaborn as sns\n",
    "\n",
    "from sklearn.decomposition import PCA\n",
    "from sklearn.preprocessing import StandardScaler"
   ]
  },
  {
   "cell_type": "code",
   "execution_count": null,
   "id": "4541cccf",
   "metadata": {},
   "outputs": [],
   "source": [
    "# Visualization settings\n",
    "sns.set(style=\"whitegrid\")\n",
    "plt.rcParams[\"figure.figsize\"] = (8, 6)"
   ]
  },
  {
   "cell_type": "code",
   "execution_count": null,
   "id": "b107d477",
   "metadata": {},
   "outputs": [],
   "source": [
    "# Paths to pre-filtered files\n",
    "EXPR_PATH = \"../processed_data/vitD_expression_matrix.csv\"\n",
    "META_PATH = \"../processed_data/siginfo_vitD_filtered.csv\"\n",
    "\n",
    "# Load expression matrix (genes x signatures)\n",
    "exp_df = pd.read_csv(EXPR_PATH, index_col=0)\n",
    "\n",
    "# Load metadata associated with the signatures\n",
    "meta_df = pd.read_csv(META_PATH, index_col=\"sig_id\")\n",
    "\n",
    "# Display shapes\n",
    "print(\"Expression matrix shape:\", exp_df.shape)\n",
    "print(\"Metadata shape:\", meta_df.shape)\n"
   ]
  },
  {
   "cell_type": "code",
   "execution_count": null,
   "id": "d03876cf",
   "metadata": {},
   "outputs": [],
   "source": [
    "# Confirm all signature IDs in metadata are present in the expression matrix\n",
    "assert set(meta_df.index).issubset(set(exp_df.columns)), \"Some sig_id in metadata are missing from expression matrix\"\n",
    "\n",
    "# Reorder expression matrix columns to match metadata index\n",
    "exp_df = exp_df[meta_df.index]\n",
    "\n",
    "# Final confirmation\n",
    "print(\"Column order aligned:\", all(exp_df.columns == meta_df.index))"
   ]
  },
  {
   "cell_type": "code",
   "execution_count": null,
   "id": "6923585f",
   "metadata": {},
   "outputs": [],
   "source": [
    "# Display a subset of the expression matrix to inspect gene-signature structure\n",
    "display(exp_df.iloc[:5, :5])\n",
    "\n",
    "# Display the first rows of the metadata to examine available annotations\n",
    "display(meta_df.head())\n",
    "\n",
    "# Calculate the number of unique compounds present in the filtered dataset\n",
    "n_compounds = meta_df[\"cmap_name\"].nunique()\n",
    "\n",
    "# Summarize the number of transcriptional signatures available per compound\n",
    "compound_counts = meta_df[\"cmap_name\"].value_counts()\n",
    "display(compound_counts)"
   ]
  },
  {
   "cell_type": "markdown",
   "id": "7664d54b",
   "metadata": {},
   "source": [
    "---"
   ]
  },
  {
   "cell_type": "markdown",
   "id": "64a23b31",
   "metadata": {},
   "source": [
    "## Overview of Vitamin D Signature Annotations\n",
    "\n",
    "### 🧠 General structure and data types"
   ]
  },
  {
   "cell_type": "code",
   "execution_count": null,
   "id": "e277e7e8",
   "metadata": {},
   "outputs": [],
   "source": [
    "# Overview of the metadata DataFrame\n",
    "meta_df.info()"
   ]
  },
  {
   "cell_type": "markdown",
   "id": "c98d48a8",
   "metadata": {},
   "source": [
    "### 📏 Summary statistics for numeric columns"
   ]
  },
  {
   "cell_type": "code",
   "execution_count": null,
   "id": "18096b0d",
   "metadata": {},
   "outputs": [],
   "source": [
    "# Descriptive statistics for numeric variables\n",
    "print(meta_df.describe())"
   ]
  },
  {
   "cell_type": "markdown",
   "id": "e73d4a10",
   "metadata": {},
   "source": [
    "### 🔣 Cardinality of categorical variables"
   ]
  },
  {
   "cell_type": "code",
   "execution_count": null,
   "id": "dd20ee1f",
   "metadata": {},
   "outputs": [],
   "source": [
    "# Number of unique values per column\n",
    "meta_df.nunique().sort_values()"
   ]
  },
  {
   "cell_type": "markdown",
   "id": "13e73860",
   "metadata": {},
   "source": [
    "### ⚠️ Missing value check"
   ]
  },
  {
   "cell_type": "code",
   "execution_count": null,
   "id": "2bcfa94b",
   "metadata": {},
   "outputs": [],
   "source": [
    "# Count of missing values per column\n",
    "meta_df.isna().sum().sort_values(ascending=False)"
   ]
  },
  {
   "cell_type": "markdown",
   "id": "aa2f1b6e",
   "metadata": {},
   "source": [
    "### 📌 Signature distribution across key experimental factors"
   ]
  },
  {
   "cell_type": "code",
   "execution_count": null,
   "id": "835c2dab",
   "metadata": {},
   "outputs": [],
   "source": [
    "# Distribution of signatures across cell lines\n",
    "meta_df[\"cell_mfc_name\"].value_counts()\n",
    "\n",
    "# Distribution of signatures across exposure durations\n",
    "meta_df[\"pert_itime\"].value_counts()"
   ]
  },
  {
   "cell_type": "markdown",
   "id": "3b94acaa",
   "metadata": {},
   "source": [
    "This section summarizes the characteristics of the filtered metadata, which includes only signatures related to vitamin D analogs. The dataset was preselected to include:\n",
    "\n",
    "- **7 compounds** of interest\n",
    "- **5 human cell lines**\n",
    "- A single exposure time of **24 hours**\n",
    "\n",
    "As expected, all signatures reflect this uniformity in treatment duration and compound class. The resulting dataset contains **258 transcriptional signatures**, each associated with a set of experimental and quality control annotations (37 columns in total).\n",
    "\n",
    "#### 🧪 Quality control and metadata insights\n",
    "\n",
    "- All signatures have valid values for key fields such as `dose`, `cell line`, and `perturbation type`.\n",
    "- The `Transcriptional Activity Score (tas)` ranges from 0.01 to 0.64, indicating heterogeneity in transcriptional response even among filtered compounds.\n",
    "- `ss_ngene` (number of genes significantly changed) varies widely, from 43 to 646.\n",
    "- The `batch_effect_tstat` and reproducibility scores (`median_recall_*`) show moderate variability, suggesting batch or replicate-level effects worth considering in downstream analysis.\n",
    "\n",
    "#### ⚠️ Missing values\n",
    "\n",
    "Most columns are complete. Only `build_name` is entirely missing, and some metrics related to recall and connectivity have partial missingness, which will be handled accordingly if required.\n",
    "\n",
    "> This metadata summary confirms that the pre-filtering step was correctly applied and that the dataset retains sufficient variability in response quality and intensity to support further exploration.\n",
    "\n",
    "---"
   ]
  },
  {
   "cell_type": "markdown",
   "id": "90691382",
   "metadata": {},
   "source": [
    "## 🧬 Exploratory Analysis of the Gene Expression Matrix\n",
    "\n",
    "### 1. Shape and preview"
   ]
  },
  {
   "cell_type": "code",
   "execution_count": null,
   "id": "9e63e785",
   "metadata": {},
   "outputs": [],
   "source": [
    "print(\"Expression matrix shape (genes × signatures):\", exp_df.shape)\n",
    "print(exp_df.head())"
   ]
  },
  {
   "cell_type": "markdown",
   "id": "4bf6342e",
   "metadata": {},
   "source": [
    "### 2. Summary statistics across all values"
   ]
  },
  {
   "cell_type": "code",
   "execution_count": null,
   "id": "fb0f4e5f",
   "metadata": {},
   "outputs": [],
   "source": [
    "print(\"Summary statistics for expression values:\")\n",
    "display(exp_df.describe())"
   ]
  },
  {
   "cell_type": "markdown",
   "id": "4776dbac",
   "metadata": {},
   "source": [
    "### 3. Distribution of all expression values (flattened)\n"
   ]
  },
  {
   "cell_type": "code",
   "execution_count": null,
   "id": "67240b27",
   "metadata": {},
   "outputs": [],
   "source": [
    "sns.histplot(exp_df.values.flatten(), bins=100, kde=True)\n",
    "plt.title(\"Distribution of Expression Values (All Genes and Signatures)\")\n",
    "plt.xlabel(\"z-score\")\n",
    "plt.ylabel(\"Frequency\")\n",
    "plt.show()"
   ]
  },
  {
   "cell_type": "markdown",
   "id": "49a95da3",
   "metadata": {},
   "source": [
    "### 4. Variance across genes (rows) and signatures (columns)"
   ]
  },
  {
   "cell_type": "code",
   "execution_count": null,
   "id": "f1b0684d",
   "metadata": {},
   "outputs": [],
   "source": [
    "gene_var = exp_df.var(axis=1)\n",
    "sig_var = exp_df.var(axis=0)\n",
    "\n",
    "print(\"Gene-wise variance summary:\")\n",
    "display(gene_var.describe())\n",
    "\n",
    "print(\"Signature-wise variance summary:\")\n",
    "display(sig_var.describe())\n",
    "\n"
   ]
  },
  {
   "cell_type": "markdown",
   "id": "ceabd4cc",
   "metadata": {},
   "source": [
    "### 5. Check for genes with near-zero variance\n"
   ]
  },
  {
   "cell_type": "code",
   "execution_count": null,
   "id": "d3dd36b6",
   "metadata": {},
   "outputs": [],
   "source": [
    "low_var_genes = (gene_var < 1e-5).sum()\n",
    "print(\"Number of genes with near-zero variance:\", low_var_genes)"
   ]
  },
  {
   "cell_type": "markdown",
   "id": "90d82913",
   "metadata": {},
   "source": [
    "This section explores the structure and distribution of the gene expression matrix (`exp_df`) corresponding to the filtered vitamin D-related transcriptional signatures.\n",
    "\n",
    "### 📐 Matrix dimensions\n",
    "\n",
    "The expression matrix contains:\n",
    "- **12,328 genes** (rows)\n",
    "- **258 signatures** (columns), each matching an experimental condition from the metadata.\n",
    "\n",
    "Each value represents a **z-score normalized gene expression level**, as provided by the LINCS L1000 pipeline.\n",
    "\n",
    "### 📊 Summary statistics\n",
    "\n",
    "A preview of the data shows expected values centered around zero, with both up- and down-regulated genes across conditions. Descriptive statistics confirm this distribution:\n",
    "\n",
    "- Expression values range from approximately **-8.48 to +9.56**.\n",
    "- Signature-wise and gene-wise variances are both moderate on average (mean ~0.42).\n",
    "- **No genes** were found with near-zero variance, indicating that all genes carry some signal and no immediate filtering is needed.\n",
    "\n",
    "### 📈 Distribution of expression values\n",
    "\n",
    "The histogram below shows a bell-shaped distribution, consistent with the z-score normalization applied to the data. The central peak is located at 0, and the tails extend in both directions, confirming the presence of genes with both induced and repressed expression across conditions.\n",
    "\n",
    ">This analysis confirms that the expression matrix is well-structured, contains biologically meaningful variation, and is ready for dimensionality reduction or clustering in subsequent steps.\n",
    "\n",
    "---\n"
   ]
  },
  {
   "cell_type": "markdown",
   "id": "2655263f",
   "metadata": {},
   "source": [
    "## PCA of Gene Expression Signatures\n",
    "\n",
    "Principal Component Analysis (PCA) was applied to the gene expression matrix to visualize the structure of the 258 vitamin D-related transcriptional signatures.\n",
    "\n",
    "This dimensionality reduction technique allows us to:\n",
    "- Identify potential clustering of signatures by compound or cell line,\n",
    "- Detect outliers or batch effects,\n",
    "- Understand how much variance is captured in low-dimensional projections.\n",
    "\n",
    "The PCA was performed on the **z-score normalized expression matrix** (`exp_df`), already aligned with the metadata."
   ]
  },
  {
   "cell_type": "code",
   "execution_count": null,
   "id": "a910581b",
   "metadata": {},
   "outputs": [],
   "source": [
    "# Standardize expression matrix (genes × signatures)\n",
    "scaler = StandardScaler()\n",
    "exp_scaled = scaler.fit_transform(exp_df.T)  # Transpose to have samples as rows\n",
    "\n",
    "# Perform PCA\n",
    "pca = PCA(n_components=2)\n",
    "pca_result = pca.fit_transform(exp_scaled)\n",
    "\n",
    "# Add PCA results to metadata\n",
    "meta_df[\"PCA1\"] = pca_result[:, 0]\n",
    "meta_df[\"PCA2\"] = pca_result[:, 1]\n",
    "\n",
    "# Plot PCA colored by compound\n",
    "plt.figure(figsize=(8, 6))\n",
    "sns.scatterplot(\n",
    "    data=meta_df,\n",
    "    x=\"PCA1\", y=\"PCA2\",\n",
    "    hue=\"cmap_name\",\n",
    "    palette=\"Set2\",\n",
    "    s=70,\n",
    "    edgecolor=\"black\",\n",
    "    alpha=0.8\n",
    ")\n",
    "plt.title(\"PCA of Vitamin D-Related Gene Expression Signatures\")\n",
    "plt.xlabel(f\"PCA1 ({pca.explained_variance_ratio_[0]*100:.1f}% variance)\")\n",
    "plt.ylabel(f\"PCA2 ({pca.explained_variance_ratio_[1]*100:.1f}% variance)\")\n",
    "plt.legend(title=\"Compound\", bbox_to_anchor=(1.05, 1), loc=\"upper left\")\n",
    "plt.tight_layout()\n",
    "plt.show()\n"
   ]
  },
  {
   "cell_type": "markdown",
   "id": "a414a58a",
   "metadata": {},
   "source": [
    "#### Interpretation of PCA Results\n",
    "\n",
    "The PCA projection of the 258 vitamin D-related transcriptional signatures reveals the following:\n",
    "\n",
    "- **No strong global separation** between compounds is observed, indicating that the overall gene expression profiles are partially overlapping across vitamin D analogs.\n",
    "- Some mild clustering tendencies appear for specific compounds, such as *maxacalcitol* and *paricalcitol*, which show a few more dispersed or distinctive points—suggesting **unique transcriptomic effects** under certain conditions.\n",
    "- The explained variance is relatively low (PCA1: 13.6%, PCA2: 5.4%), consistent with high-dimensional biological data. This suggests that a **large number of components** may be needed to capture the full complexity of variation.\n",
    "\n",
    "> These results suggest that while the compounds share global expression patterns—likely due to their common vitamin D activity—specific outliers may reflect differences in potency, cell type interaction, or downstream pathways activated."
   ]
  },
  {
   "cell_type": "markdown",
   "id": "d04dee74",
   "metadata": {},
   "source": [
    "### PCA Colored by Cell Line\n",
    "\n",
    "To investigate whether cell type explains more variance than compound identity, we re-colored the PCA projection using the `cell_mfc_name` variable."
   ]
  },
  {
   "cell_type": "code",
   "execution_count": null,
   "id": "e0c4ff63",
   "metadata": {},
   "outputs": [],
   "source": [
    "# Plot PCA colored by cell line\n",
    "plt.figure(figsize=(8, 6))\n",
    "sns.scatterplot(\n",
    "    data=meta_df,\n",
    "    x=\"PCA1\", y=\"PCA2\",\n",
    "    hue=\"cell_mfc_name\",\n",
    "    palette=\"Dark2\",\n",
    "    s=70,\n",
    "    edgecolor=\"black\",\n",
    "    alpha=0.8\n",
    ")\n",
    "plt.title(\"PCA of Gene Expression Signatures Colored by Cell Line\")\n",
    "plt.xlabel(f\"PCA1 ({pca.explained_variance_ratio_[0]*100:.1f}% variance)\")\n",
    "plt.ylabel(f\"PCA2 ({pca.explained_variance_ratio_[1]*100:.1f}% variance)\")\n",
    "plt.legend(title=\"Cell Line\", bbox_to_anchor=(1.05, 1), loc=\"upper left\")\n",
    "plt.tight_layout()\n",
    "plt.show()\n"
   ]
  },
  {
   "cell_type": "markdown",
   "id": "49628ff4",
   "metadata": {},
   "source": [
    "#### Interpretation: PCA Colored by Cell Line\n",
    "\n",
    "When the same PCA projection is colored by cell line, a clearer structure emerges:\n",
    "\n",
    "- **PC3 signatures** (orange) form a distinct cluster, mainly in the upper half of the plot, showing a consistent transcriptional pattern across compounds.\n",
    "- **MCF7, A549, U2OS, and HA1E** signatures largely overlap, suggesting more similar expression responses or lower variability among them.\n",
    "- This indicates that **cell type has a stronger effect** on the transcriptional landscape than compound identity alone, at least in the space captured by the first two principal components.\n",
    "\n",
    "> These findings highlight the importance of cellular context in shaping the response to vitamin D analogs, and suggest that stratified analysis by cell line may be necessary in downstream modeling.\n"
   ]
  },
  {
   "cell_type": "markdown",
   "id": "6eb34604",
   "metadata": {},
   "source": [
    "## Clustering of Expression Signatures – Heatmap with Dendrogram\n",
    "\n",
    "To explore the relationships between transcriptional signatures, we used hierarchical clustering on the top 100 most variable genes across all conditions. This clustermap visualizes both sample-sample and gene-gene similarity.\n",
    "\n",
    "Signatures are annotated by cell line, allowing us to assess whether they cluster according to biological condition.\n"
   ]
  },
  {
   "cell_type": "code",
   "execution_count": null,
   "id": "a22d465e",
   "metadata": {},
   "outputs": [],
   "source": [
    "# Select top 100 most variable genes\n",
    "top_genes = exp_df.var(axis=1).sort_values(ascending=False).head(100).index\n",
    "exp_top = exp_df.loc[top_genes]\n",
    "\n",
    "# Create color annotations for the columns (signatures)\n",
    "cell_palette = sns.color_palette(\"Dark2\", meta_df[\"cell_mfc_name\"].nunique())\n",
    "cell_lut = dict(zip(meta_df[\"cell_mfc_name\"].unique(), cell_palette))\n",
    "col_colors = meta_df[\"cell_mfc_name\"].map(cell_lut)\n",
    "\n",
    "# Create clustermap\n",
    "sns.clustermap(\n",
    "    exp_top,\n",
    "    col_cluster=True,\n",
    "    row_cluster=True,\n",
    "    col_colors=col_colors,\n",
    "    cmap=\"vlag\",\n",
    "    figsize=(12, 10),\n",
    "    xticklabels=False,\n",
    "    yticklabels=False,\n",
    "    dendrogram_ratio=(.1, .2),\n",
    "    cbar_pos=(0, 0.8, 0.03, 0.18)\n",
    ")\n",
    "plt.suptitle(\"Clustering of Top 100 Variable Genes Across Signatures\", y=1.02)\n",
    "plt.show()\n"
   ]
  },
  {
   "cell_type": "markdown",
   "id": "d8cddd98",
   "metadata": {},
   "source": [
    "### Interpretation – Clustermap of Top 100 Variable Genes\n",
    "\n",
    "The hierarchical clustering of gene expression signatures reveals structured patterns of co-expression:\n",
    "\n",
    "- Signatures from **PC3 cells** cluster tightly, reinforcing their distinct transcriptional response to vitamin D analogs.\n",
    "- Other cell lines (MCF7, A549, HA1E, U2OS) show more **distributed clustering**, suggesting overlapping but not identical responses.\n",
    "- Specific gene clusters display coordinated upregulation or downregulation across subsets of conditions, potentially reflecting shared pathways or regulatory modules.\n",
    "\n",
    "> These results validate and extend the PCA observations, showing that cell line identity remains a strong driver of expression variability, even at the level of the most variable genes.\n"
   ]
  },
  {
   "cell_type": "markdown",
   "id": "9051daad",
   "metadata": {},
   "source": [
    "## UMAP of Gene Expression Signatures\n",
    "\n",
    "To complement the PCA and clustering analysis, we applied **Uniform Manifold Approximation and Projection (UMAP)** to the expression matrix. UMAP is a non-linear dimensionality reduction technique that preserves both local and global structure in the data.\n",
    "\n",
    "This method is particularly useful for detecting subtle patterns and **natural groupings** that may not be captured by PCA. Here, we visualize the transcriptional signatures in a 2D space using UMAP, colored by **cell line identity**.\n"
   ]
  },
  {
   "cell_type": "code",
   "execution_count": null,
   "id": "954ef6d2",
   "metadata": {},
   "outputs": [],
   "source": [
    "# Import UMAP\n",
    "import umap.umap_ as umap\n",
    "\n",
    "# Scale the data (use same scaling as in PCA)\n",
    "scaler = StandardScaler()\n",
    "exp_scaled = scaler.fit_transform(exp_df.T)\n",
    "\n",
    "# Run UMAP\n",
    "umap_model = umap.UMAP(n_neighbors=15, min_dist=0.1, random_state=42)\n",
    "umap_result = umap_model.fit_transform(exp_scaled)\n",
    "\n",
    "# Save results in metadata\n",
    "meta_df[\"UMAP1\"] = umap_result[:, 0]\n",
    "meta_df[\"UMAP2\"] = umap_result[:, 1]"
   ]
  },
  {
   "cell_type": "code",
   "execution_count": null,
   "id": "b302518a",
   "metadata": {},
   "outputs": [],
   "source": [
    "# Plot UMAP por cell line\n",
    "plt.figure(figsize=(8, 6))\n",
    "sns.scatterplot(\n",
    "    data=meta_df,\n",
    "    x=\"UMAP1\", y=\"UMAP2\",\n",
    "    hue=\"cell_mfc_name\",\n",
    "    palette=\"Dark2\",\n",
    "    s=70,\n",
    "    edgecolor=\"black\",\n",
    "    alpha=0.8\n",
    ")\n",
    "plt.title(\"UMAP of Gene Expression Signatures by Cell Line\")\n",
    "plt.legend(title=\"Cell Line\", bbox_to_anchor=(1.05, 1), loc=\"upper left\")\n",
    "plt.tight_layout()\n",
    "plt.show()\n"
   ]
  },
  {
   "cell_type": "markdown",
   "id": "5006432c",
   "metadata": {},
   "source": [
    "#### Interpretation of UMAP Results\n",
    "\n",
    "The UMAP projection of gene expression signatures across selected cell lines reveals the following:\n",
    "\n",
    "- **Clear separation** is observed for the PC3 cell line, which forms a distinct and compact cluster—suggesting a **consistent and unique transcriptomic response** compared to the other lines.\n",
    "- **Partial overlap** is present among MCF7, A549, HA1E, and U2OS, indicating **shared or more variable expression profiles**, possibly due to common pathways or cell-type similarities.\n",
    "- UMAP maintains meaningful **local structure** in the data, capturing both discrete and continuous relationships between samples.\n",
    "- Unlike PCA, UMAP is non-linear and does not provide explained variance metrics, but its **visual separability** implies underlying biological differences.\n",
    "\n",
    "> These observations highlight how transcriptional responses to perturbagens can vary by cell type. While some cell lines (e.g., PC3) respond in a well-defined manner, others exhibit broader variability, potentially reflecting differences in lineage, basal gene expression, or compound sensitivity.\n",
    "\n",
    "---"
   ]
  },
  {
   "cell_type": "markdown",
   "id": "968c7769",
   "metadata": {},
   "source": [
    "## Distribution of Experimental Metrics by Compound and Cell Line\n",
    "\n",
    "To evaluate the consistency and variability of transcriptional responses, we visualize three key metrics from the metadata:\n",
    "\n",
    "- `tas`: Transcriptional Activity Score\n",
    "- `ss_ngene`: Number of significantly changed genes\n",
    "- `cc_q75`: 75th percentile of replicate correlation (quality control)\n",
    "\n",
    "These metrics reflect signal strength, gene-level impact, and reproducibility, respectively. We compare their distributions across compounds (`cmap_name`) and cell lines (`cell_mfc_name`) to assess whether specific treatments or cellular contexts show stronger or more variable responses.\n",
    "\n",
    "\n",
    "### 🔹 Distribution by Compound"
   ]
  },
  {
   "cell_type": "code",
   "execution_count": null,
   "id": "4e00d513",
   "metadata": {},
   "outputs": [],
   "source": [
    "# Define metrics to plot\n",
    "metrics = [\"tas\", \"ss_ngene\", \"cc_q75\"]\n",
    "titles = [\"Transcriptional Activity Score (TAS)\",\n",
    "          \"Number of Significantly Changed Genes (ss_ngene)\",\n",
    "          \"75th Percentile of Replicate Correlation (cc_q75)\"]\n",
    "\n",
    "# Create a single figure with 3 subplots (stacked vertically)\n",
    "fig, axes = plt.subplots(nrows=3, ncols=1, figsize=(7, 12), sharex=True)\n",
    "\n",
    "for i, metric in enumerate(metrics):\n",
    "    sns.boxplot(\n",
    "        data=meta_df,\n",
    "        x=\"cmap_name\",\n",
    "        y=metric,\n",
    "        hue=\"cmap_name\", \n",
    "        palette=\"Set2\",\n",
    "        legend=False,\n",
    "        ax=axes[i]\n",
    "    )\n",
    "    \n",
    "    axes[i].set_title(titles[i])\n",
    "    axes[i].set_ylabel(metric.upper())\n",
    "    axes[i].set_xlabel(\"\")\n",
    "    axes[i].tick_params(axis='x', rotation=45)\n",
    "\n",
    "# Set common X label on the last plot\n",
    "axes[-1].set_xlabel(\"Compound (cmap_name)\")\n",
    "\n",
    "plt.tight_layout()\n",
    "plt.show()\n"
   ]
  },
  {
   "cell_type": "markdown",
   "id": "c61d7bf4",
   "metadata": {},
   "source": [
    "#### 🧠 Interpretation – Metrics by Compound\n",
    "\n",
    "The boxplots of `tas`, `ss_ngene`, and `cc_q75` across vitamin D-related compounds reveal moderate variability, with no single compound showing consistently superior performance across all metrics.\n",
    "\n",
    "- **TAS** values are broadly comparable across compounds, suggesting similar overall transcriptional activity. Slightly higher medians are observed for *tacalcitol*, *seocalcitol*, and *paricalcitol*.\n",
    "- **ss_ngene**, representing the number of significantly changed genes, shows the highest dispersion for *paricalcitol*, indicating strong but variable gene-level responses.\n",
    "- **cc_q75**, a proxy for replicate consistency, is relatively balanced, though *maxacalcitol* and *paricalcitol* exhibit marginally higher median values.\n",
    "\n",
    "> These results suggest that all compounds induce measurable transcriptional activity, but the **strength and reproducibility** of responses vary slightly across analogs.\n"
   ]
  },
  {
   "cell_type": "markdown",
   "id": "f2754ead",
   "metadata": {},
   "source": [
    "### 🔹 Distribution by Cell Line"
   ]
  },
  {
   "cell_type": "code",
   "execution_count": null,
   "id": "214745b9",
   "metadata": {},
   "outputs": [],
   "source": [
    "# Define metrics to plot\n",
    "metrics = [\"tas\", \"ss_ngene\", \"cc_q75\"]\n",
    "titles = [\"Transcriptional Activity Score (TAS)\",\n",
    "          \"Number of Significantly Changed Genes (ss_ngene)\",\n",
    "          \"75th Percentile of Replicate Correlation (cc_q75)\"]\n",
    "\n",
    "# Create a single figure with 3 subplots (stacked vertically)\n",
    "fig, axes = plt.subplots(nrows=3, ncols=1, figsize=(6, 12), sharex=True)\n",
    "\n",
    "for i, metric in enumerate(metrics):\n",
    "    sns.boxplot(\n",
    "        data=meta_df,\n",
    "        x=\"cell_mfc_name\",\n",
    "        y=metric,\n",
    "        hue=\"cell_mfc_name\", \n",
    "        palette=\"Dark2\",\n",
    "        legend=False,\n",
    "        ax=axes[i]\n",
    "    )\n",
    "    \n",
    "    axes[i].set_title(titles[i])\n",
    "    axes[i].set_ylabel(metric.upper())\n",
    "    axes[i].set_xlabel(\"\")\n",
    "    axes[i].tick_params(axis='x', rotation=45)\n",
    "\n",
    "# Set common X label on the last plot\n",
    "axes[-1].set_xlabel(\"Cell Line (cell_mfc_name)\")\n",
    "\n",
    "plt.tight_layout()\n",
    "plt.show()"
   ]
  },
  {
   "cell_type": "markdown",
   "id": "bcbe08cc",
   "metadata": {},
   "source": [
    "### 🧬 Cell Line Comparison of Transcriptomic Response Metrics\n",
    "\n",
    "The distribution of transcriptional activity metrics across cell lines reveals that **cellular context strongly shapes the magnitude and reproducibility of responses to vitamin D analogs**.\n",
    "\n",
    "- **PC3 cells** stand out with **higher median TAS**, **more significantly altered genes (ss_ngene)**, and **stronger replicate correlation (cc_q75)**, indicating a robust and consistent transcriptional signature.\n",
    "- Nonetheless, **other cell lines such as MCF7, U2OS, A549, and HA1E also show meaningful transcriptomic changes**, with **median `ss_ngene` values often exceeding 100–150 genes**, a level considered biologically significant in many studies.\n",
    "- **Higher variability** in `cc_q75` across some lines (e.g., A549, HA1E) might reflect lower reproducibility or more heterogeneous responses—important to keep in mind for downstream modeling or interpretation.\n",
    "\n",
    "> These results support the notion that **vitamin D analogs produce broad transcriptional effects across multiple cancer-related cell types**, with **PC3 being particularly responsive**, but by no means the only relevant model.\n"
   ]
  },
  {
   "cell_type": "markdown",
   "id": "91080178",
   "metadata": {},
   "source": [
    "### 📊 Distribution of Transcriptomic Signatures per Cell Line\n",
    "\n",
    "Before diving deeper into transcriptional patterns, it's essential to assess the **representation of each cell line** in our dataset. A highly responsive cell line may appear to perform better simply due to a **larger number of replicates** or signatures. This plot helps evaluate whether the observed trends reflect biological differences or data imbalance.\n",
    "\n",
    "#### 📌 Count the number of transcriptomic signatures available per cell line\n"
   ]
  },
  {
   "cell_type": "code",
   "execution_count": null,
   "id": "25837c8c",
   "metadata": {},
   "outputs": [],
   "source": [
    "# Count how many signatures exist for each cell line\n",
    "cell_line_counts = meta_df['cell_mfc_name'].value_counts().reset_index()\n",
    "cell_line_counts.columns = ['Cell Line', 'Number of Signatures']\n",
    "\n",
    "# Plot the distribution using a barplot (compatible with future Seaborn versions)\n",
    "plt.figure(figsize=(6, 4))\n",
    "sns.barplot(\n",
    "    data=cell_line_counts,\n",
    "    x='Cell Line',\n",
    "    y='Number of Signatures',\n",
    "    hue='Cell Line',              \n",
    "    palette='Set2',\n",
    "    legend=False                  \n",
    ")\n",
    "\n",
    "# Add labels and formatting\n",
    "plt.title(\"Number of Transcriptomic Signatures per Cell Line\")\n",
    "plt.ylabel(\"Number of Signatures\")\n",
    "plt.xlabel(\"Cell Line\")\n",
    "plt.xticks(rotation=45)\n",
    "plt.tight_layout()\n",
    "plt.show()"
   ]
  },
  {
   "cell_type": "markdown",
   "id": "5a01ca45",
   "metadata": {},
   "source": [
    "The distribution of vitamin D-related transcriptomic signatures is relatively balanced across the main cell lines, with **MCF7, PC3, A549, and HA1E** each contributing over 50 signatures. **U2OS** has fewer profiles (~20), which may slightly limit statistical power for this cell type.\n",
    "\n",
    "This coverage is consistent with the compound × cell line matrix, where *calcitriol* is the most widely tested analog across all lines. Other compounds like *tacalcitol* or *seocalcitol* show more limited sampling, but still span multiple cell types.\n",
    "\n",
    "> Therefore, the observed transcriptional differences between cell lines are **not simply due to data imbalance**, and likely reflect genuine biological context effects."
   ]
  },
  {
   "cell_type": "markdown",
   "id": "64326903",
   "metadata": {},
   "source": [
    "### 🔬 Most Strongly Modulated Genes Across All Signatures\n",
    "\n",
    "To identify the genes most responsive to vitamin D analogs, we computed the **mean absolute z-score** for each gene across all 258 transcriptional signatures.\n",
    "\n",
    "This metric captures the overall magnitude of transcriptional change, regardless of direction (up- or down-regulation). Genes with higher mean |z| values are considered **globally more responsive** to vitamin D perturbation.\n",
    "\n",
    "#### 📌 Identify the top 20 most strongly modulated genes across all signatures"
   ]
  },
  {
   "cell_type": "code",
   "execution_count": null,
   "id": "2d296e00",
   "metadata": {},
   "outputs": [],
   "source": [
    "# Load gene information table\n",
    "geneinfo_df = pd.read_csv(\"../raw_data/geneinfo_beta.txt\", sep=\"\\t\", low_memory=False)\n",
    "\n",
    "# Compute the mean absolute z-score for each gene\n",
    "mean_abs_z = exp_df.abs().mean(axis=1).sort_values(ascending=False)\n",
    "\n",
    "# Select the top 20 most modulated genes\n",
    "top_genes = mean_abs_z.head(20)\n",
    "\n",
    "# Map gene IDs (rid) to gene symbols\n",
    "top_genes_named = (\n",
    "    top_genes.reset_index()\n",
    "    .merge(geneinfo_df[[\"gene_id\", \"gene_symbol\"]], left_on=\"rid\", right_on=\"gene_id\", how=\"left\")\n",
    "    .set_index(\"gene_symbol\")\n",
    "    .sort_values(by=0, ascending=False)\n",
    ")\n",
    "\n",
    "# Display the resulting table\n",
    "print(top_genes_named)\n",
    "\n",
    "# Plot with gene symbols as Y-axis labels\n",
    "plt.figure(figsize=(8, 6))\n",
    "sns.barplot(\n",
    "    x=top_genes_named[0],\n",
    "    y=top_genes_named.index,\n",
    "    hue=top_genes_named.index,  # assign y-axis variable to hue\n",
    "    palette=\"viridis\",\n",
    "    dodge=False,\n",
    "    legend=False\n",
    ")\n",
    "plt.xlabel(\"Mean |z-score| across all signatures\")\n",
    "plt.ylabel(\"Gene Symbol\")\n",
    "plt.title(\"Top 20 Most Modulated Genes by Vitamin D Analog Exposure\")\n",
    "plt.tight_layout()\n",
    "plt.show()"
   ]
  },
  {
   "cell_type": "markdown",
   "id": "ec8e823d",
   "metadata": {},
   "source": [
    "#### 🧠 Interpretation – Top Modulated Genes\n",
    "\n",
    "The analysis of mean absolute z-scores across all 258 vitamin D-related transcriptional signatures highlights several genes with consistently strong modulation:\n",
    "\n",
    "- **IGFBP3** and **DDIT4** top the list, both of which are known to be regulated by vitamin D and associated with apoptosis, cellular stress, and proliferation control.\n",
    "- Other highly responsive genes include **TXNRD1** (oxidative stress), **NFKBIA** (inflammation), **PHGDH** (serine biosynthesis), and **SPP1** (osteopontin), all of which play roles in cellular homeostasis and cancer biology.\n",
    "- The presence of **C2CD2**, **TSKU**, and other less characterized genes suggests possible **novel regulatory effects** of vitamin D analogs worthy of further investigation.\n",
    "\n",
    "> These findings support the hypothesis that vitamin D analogs elicit biologically relevant transcriptional responses, impacting both well-known and potentially novel gene targets.\n"
   ]
  },
  {
   "cell_type": "markdown",
   "id": "ab1ead78",
   "metadata": {},
   "source": [
    "### 🔥 Heatmap of Top 20 Most Modulated Genes\n",
    "\n",
    "To explore how the most responsive genes behave across all transcriptional signatures, we created a heatmap of z-score expression values for the **top 20 most modulated genes**. This visualization reveals potential clustering patterns among compounds, cell lines, and gene regulation modes.\n"
   ]
  },
  {
   "cell_type": "code",
   "execution_count": null,
   "id": "ff03bf16",
   "metadata": {},
   "outputs": [],
   "source": [
    "# Extract expression data for the top 20 genes (using gene_id)\n",
    "top_gene_ids = top_genes_named[\"gene_id\"]\n",
    "heatmap_df = exp_df.loc[top_gene_ids]\n",
    "\n",
    "# Optional: replace gene_id by gene_symbol for readability\n",
    "heatmap_df.index = top_genes_named.index  # these are gene symbols\n",
    "\n",
    "# Create column color annotations for cell line\n",
    "cell_palette = sns.color_palette(\"Dark2\", meta_df[\"cell_mfc_name\"].nunique())\n",
    "cell_lut = dict(zip(meta_df[\"cell_mfc_name\"].unique(), cell_palette))\n",
    "col_colors = meta_df[\"cell_mfc_name\"].map(cell_lut)\n",
    "\n",
    "# Plot clustermap\n",
    "sns.clustermap(\n",
    "    heatmap_df,\n",
    "    col_cluster=True,\n",
    "    row_cluster=True,\n",
    "    col_colors=col_colors,\n",
    "    cmap=\"vlag\",\n",
    "    figsize=(14, 10),\n",
    "    xticklabels=False,\n",
    "    yticklabels=True,\n",
    "    dendrogram_ratio=(.1, .2),\n",
    "    cbar_pos=(0, 0.8, 0.03, 0.18)\n",
    ")\n",
    "plt.suptitle(\"Expression Heatmap – Top 20 Most Modulated Genes\", y=1.02)\n",
    "plt.show()\n"
   ]
  },
  {
   "cell_type": "markdown",
   "id": "207c70cf",
   "metadata": {},
   "source": [
    "### 🧬 Interpretation – Heatmap of Top 20 Most Modulated Genes\n",
    "\n",
    "The heatmap reveals **coherent transcriptional response patterns** among the top 20 most modulated genes across vitamin D-related signatures.\n",
    "\n",
    "- Distinct clusters of gene activation (red) and repression (blue) are visible, indicating **co-regulation** and potential **shared pathways**.\n",
    "- Several genes, such as **IGFBP3**, **DDIT4**, and **TXNRD1**, show strong and consistent upregulation in subsets of signatures.\n",
    "- Column annotations by cell line confirm that some cell types (e.g., **PC3**) exhibit **stronger and more consistent responses**, aligning with previous PCA and metric-based observations.\n",
    "\n",
    "> These expression profiles suggest that both compound and cellular context shape the transcriptional landscape, and that a subset of genes may serve as robust indicators of vitamin D activity.\n"
   ]
  },
  {
   "cell_type": "markdown",
   "id": "2366ef38",
   "metadata": {},
   "source": [
    "### 🧪 Activity Intensity by Compound and Cell Line\n",
    "\n",
    "To summarize the strength of transcriptional responses across experimental conditions, we computed the average **Transcriptional Activity Score (TAS)** for each combination of **compound** and **cell line**.\n",
    "\n",
    "This heatmap highlights which cell-compound contexts exhibit the strongest overall modulation, guiding future analyses or experimental prioritization.\n"
   ]
  },
  {
   "cell_type": "code",
   "execution_count": null,
   "id": "581780e2",
   "metadata": {},
   "outputs": [],
   "source": [
    "# Create pivot table with mean TAS per compound × cell line\n",
    "tas_pivot = meta_df.pivot_table(\n",
    "    index=\"cell_mfc_name\",\n",
    "    columns=\"cmap_name\",\n",
    "    values=\"tas\",\n",
    "    aggfunc=\"mean\"\n",
    ")\n",
    "\n",
    "# Plot heatmap\n",
    "plt.figure(figsize=(10, 6))\n",
    "sns.heatmap(tas_pivot, cmap=\"YlGnBu\", annot=True, fmt=\".2f\", linewidths=0.5, cbar_kws={\"label\": \"Mean TAS\"})\n",
    "plt.title(\"Mean Transcriptional Activity Score (TAS) by Compound and Cell Line\")\n",
    "plt.xlabel(\"Compound\")\n",
    "plt.ylabel(\"Cell Line\")\n",
    "plt.tight_layout()\n",
    "plt.show()\n"
   ]
  },
  {
   "cell_type": "markdown",
   "id": "53f6f3e7",
   "metadata": {},
   "source": [
    "#### 🧬 Observations on Transcriptional Activity Score (TAS)\n",
    "\n",
    "- The **PC3** cell line shows the **highest transcriptional response** across all Vitamin D analogs, with TAS values consistently above 0.30. This suggests that prostate cancer cells may be particularly sensitive to modulation by these compounds.\n",
    "\n",
    "- **Ergocalcitriol, paricalcitol, and seocalcitol** appear to induce **stronger transcriptional activity overall**, especially in PC3, pointing to potential differences in potency or mechanism compared to calcitriol.\n",
    "\n",
    "- In contrast, **U2OS (osteosarcoma)** and **A549 (lung cancer)** lines show **weaker transcriptional responses**, with TAS values typically below 0.20, indicating limited gene expression modulation under the tested conditions.\n",
    "\n",
    "- **MCF7** (breast cancer) and **HA1E** (kidney epithelial) display **moderate and variable TAS values**, suggesting context-dependent sensitivity that may reflect differences in Vitamin D receptor expression or downstream signaling.\n",
    "\n",
    "> These patterns highlight the importance of cell-type specificity when evaluating the transcriptomic impact of Vitamin D analogs and may inform future therapeutic targeting strategies."
   ]
  },
  {
   "cell_type": "markdown",
   "id": "08bce30d",
   "metadata": {},
   "source": [
    "### 🧠 Comparison of Correlation Analyses: Treatment Similarity vs. Gene Co-regulation\n",
    "\n",
    "To gain a more complete understanding of the transcriptional effects of vitamin D analogs, we performed **two complementary correlation analyses** on the expression matrix.\n"
   ]
  },
  {
   "cell_type": "markdown",
   "id": "e4c74d88",
   "metadata": {},
   "source": [
    "#### 🔵 1. Gene Co-regulation Across Vitamin D Treatments\n",
    "\n",
    "**Analysis:**  \n",
    "We computed the **Pearson correlation between genes** (rows of the expression matrix), across all vitamin D signatures.\n",
    "\n",
    "**Question addressed:**  \n",
    "*Which genes tend to behave similarly in response to vitamin D analogs?*\n",
    "\n",
    "**Biological interpretation:**\n",
    "- Co-regulated genes may share **regulatory elements**, belong to the same **pathways**, or be **core effectors** of the vitamin D response.\n",
    "- Highly correlated genes might be **redundant**, while inversely correlated ones may represent **divergent pathways**.\n",
    "- This helps identify **candidate biomarkers** or **functional modules** activated by treatment."
   ]
  },
  {
   "cell_type": "code",
   "execution_count": null,
   "id": "e5ac2a15",
   "metadata": {},
   "outputs": [],
   "source": [
    "# Cargar tabla de información de genes (si no está cargada aún)\n",
    "geneinfo_df = pd.read_csv(\"../raw_data/geneinfo_beta.txt\", sep=\"\\t\", low_memory=False)\n",
    "\n",
    "# Calcular z-score absoluto promedio por gen\n",
    "mean_abs_z = exp_df.abs().mean(axis=1).sort_values(ascending=False)\n",
    "\n",
    "# Seleccionar los 20 genes más modulados\n",
    "top_genes = mean_abs_z.head(20)\n",
    "\n",
    "# Obtener nombres de genes (gene_symbol)\n",
    "top_genes_named = (\n",
    "    top_genes.reset_index()\n",
    "    .merge(geneinfo_df[[\"gene_id\", \"gene_symbol\"]], left_on=\"rid\", right_on=\"gene_id\", how=\"left\")\n",
    "    .set_index(\"gene_symbol\")\n",
    "    .sort_values(by=0, ascending=False)\n",
    ")\n",
    "\n",
    "# Filtrar matriz de expresión por los top genes\n",
    "exp_top = exp_df.loc[top_genes_named[\"rid\"]]\n",
    "\n",
    "# Renombrar los índices de fila (genes) con símbolos\n",
    "exp_top.index = top_genes_named.index\n",
    "\n",
    "# Alinear metadata con columnas de expresión\n",
    "meta_aligned = meta_df.loc[exp_top.columns]\n",
    "\n",
    "# Agrupar por nombre de compuesto y promediar perfiles\n",
    "exp_top_avg = exp_top.T.groupby(meta_aligned[\"cmap_name\"]).mean().T\n",
    "\n",
    "# Calcular correlación entre compuestos\n",
    "compound_corr = exp_top_avg.T.corr(method=\"pearson\")\n",
    "\n",
    "# Plot del heatmap\n",
    "plt.figure(figsize=(12, 10))\n",
    "sns.heatmap(\n",
    "    compound_corr,\n",
    "    annot=True,\n",
    "    fmt=\".2f\",\n",
    "    cmap=\"vlag\",\n",
    "    vmin=0,\n",
    "    vmax=1,\n",
    "    square=True,\n",
    "    linewidths=0.5,\n",
    "    cbar_kws={\"label\": \"Pearson Correlation\"}\n",
    ")\n",
    "plt.title(\"Gene Co-regulation Based on Responses to Vitamin D Analogs (Top 20 Genes)\", fontsize=14)\n",
    "plt.xticks(rotation=45, ha='right')\n",
    "plt.yticks(rotation=0)\n",
    "plt.tight_layout()\n",
    "plt.show()\n"
   ]
  },
  {
   "cell_type": "markdown",
   "id": "9b4f46a9",
   "metadata": {},
   "source": [
    "#### *🔬 Key Insights from Gene Co-regulation Heatmap*\n",
    "\n",
    "This heatmap reveals patterns of **co-regulation among the top 20 genes** most modulated by vitamin D analogs.  \n",
    "Notably:\n",
    "\n",
    "- Several gene pairs show **strong positive correlation** (e.g., `MMP1` and `NPC1`), suggesting shared regulatory mechanisms or involvement in similar pathways.\n",
    "- A few genes, such as `MTHFD2` and `PRSS23`, exhibit **anti-correlated patterns**, potentially reflecting opposing functional roles.\n",
    "- These insights can help prioritize **candidate genes for downstream pathway analysis or biomarker development**.\n"
   ]
  },
  {
   "cell_type": "markdown",
   "id": "51a269e0",
   "metadata": {},
   "source": [
    "### 🔴 2. Treatment Similarity Based on Gene Expression Profiles\n",
    "\n",
    "**Analysis:**  \n",
    "We computed the **Pearson correlation between treatment signatures** (columns of the expression matrix), using the top 20 most modulated genes.\n",
    "\n",
    "**Question addressed:**  \n",
    "*How similar are the transcriptomic responses induced by different vitamin D analogs?*\n",
    "\n",
    "**Biological interpretation:**\n",
    "- Compounds that cluster together in this analysis likely activate **similar transcriptional programs**.\n",
    "- Differences may reflect **distinct receptor affinity**, **cellular uptake**, or **mechanistic selectivity**.\n",
    "- This is useful to identify **functionally similar compounds**, even when their chemical structure differs — a principle applied in **drug repurposing**.\n",
    "\n",
    "---"
   ]
  },
  {
   "cell_type": "code",
   "execution_count": null,
   "id": "b94a4992",
   "metadata": {},
   "outputs": [],
   "source": [
    "# Select top 20 most modulated genes (based on mean absolute z-score)\n",
    "top_gene_ids = top_genes.index  # gene_id format\n",
    "\n",
    "# Extract expression data for these genes\n",
    "exp_top = exp_df.loc[top_gene_ids]\n",
    "\n",
    "# Retrieve gene symbols for labeling\n",
    "gene_symbols = top_genes_named.index.tolist()\n",
    "\n",
    "# Compute Pearson correlation between gene expression profiles\n",
    "gene_corr = exp_top.T.corr(method=\"pearson\")\n",
    "\n",
    "# Plot heatmap of gene-gene correlations\n",
    "plt.figure(figsize=(10, 8))\n",
    "sns.heatmap(\n",
    "    gene_corr,\n",
    "    cmap=\"coolwarm\",\n",
    "    center=0,\n",
    "    xticklabels=gene_symbols,\n",
    "    yticklabels=gene_symbols,\n",
    "    annot=True,\n",
    "    fmt=\".2f\",\n",
    "    square=True,\n",
    "    linewidths=0.5,\n",
    "    cbar_kws={\"label\": \"Pearson Correlation\"}\n",
    ")\n",
    "plt.title(\"Correlation Between Top 20 Modulated Genes\", fontsize=14)\n",
    "plt.xticks(rotation=45, ha=\"right\")\n",
    "plt.yticks(rotation=0)\n",
    "plt.tight_layout()\n",
    "plt.show()\n"
   ]
  },
  {
   "cell_type": "markdown",
   "id": "8d288832",
   "metadata": {},
   "source": [
    "#### *🧬 Gene-Gene Correlation Across All Vitamin D Signatures*\n",
    "\n",
    "This plot shows the **pairwise Pearson correlation** between the top 20 modulated genes across all vitamin D-related signatures (i.e., individual experimental conditions).\n",
    "\n",
    "- Genes such as `TXNRD1`, `C2CD2`, and `NFKBIA` show **consistent co-modulation patterns**, suggesting robust responses across conditions.\n",
    "- Strong negative correlations (e.g., between `PRSS23` and `TXNRD1`) may indicate **functionally opposing transcriptional programs**.\n",
    "- These patterns reflect the **global coordination or antagonism** of gene responses to vitamin D analog exposure, independent of specific compounds.\n",
    "\n",
    "> This heatmap helps assess how **stable or divergent gene relationships** are across the entire dataset, which can be crucial for identifying network modules or regulatory axes.\n"
   ]
  },
  {
   "cell_type": "markdown",
   "id": "caf81479",
   "metadata": {},
   "source": [
    "### ✅ Why both analyses are important\n",
    "\n",
    "| Analysis                                | Focus                       | Key Insight                        |\n",
    "|----------------------------------------|-----------------------------|------------------------------------|\n",
    "| **Treatment Similarity** (`df.corr()`) | Across treatments           | Groups compounds by response       |\n",
    "| **Gene Co-regulation** (`df.T.corr()`) | Across genes                | Reveals functional gene modules    |\n",
    "\n",
    "By running both, we explore **how compounds behave**, and **what genes co-operate**, providing a more holistic view of the transcriptional landscape.\n",
    "\n"
   ]
  }
 ],
 "metadata": {
  "kernelspec": {
   "display_name": "vitd_env (3.11.8)",
   "language": "python",
   "name": "python3"
  },
  "language_info": {
   "codemirror_mode": {
    "name": "ipython",
    "version": 3
   },
   "file_extension": ".py",
   "mimetype": "text/x-python",
   "name": "python",
   "nbconvert_exporter": "python",
   "pygments_lexer": "ipython3",
   "version": "3.11.8"
  }
 },
 "nbformat": 4,
 "nbformat_minor": 5
}
