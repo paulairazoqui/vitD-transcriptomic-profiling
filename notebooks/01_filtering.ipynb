{
 "cells": [
  {
   "cell_type": "markdown",
   "id": "def87054",
   "metadata": {},
   "source": [
    "## Filtering Vitamin D-related compounds from LINCS metadata\n",
    "This notebook filters all vitamin D-related compounds, experimental instances, and transcriptomic signatures using the LINCS L1000 metadata files:` compoundinfo_beta.txt`, `level5_beta_trt_cp_n720216x12328` ,`instinfo_beta.txt`, and `siginfo_beta.txt`."
   ]
  },
  {
   "cell_type": "code",
   "execution_count": null,
   "id": "67ec4b20",
   "metadata": {},
   "outputs": [],
   "source": [
    "# Import libraries for data loading, filtering, and basic preprocessing\n",
    "import pandas as pd\n",
    "from cmapPy.pandasGEXpress import parse_gctx"
   ]
  },
  {
   "cell_type": "markdown",
   "id": "8cc4cbb5",
   "metadata": {},
   "source": [
    "### Loading Metadata\n",
    "\n",
    "This section loads three `.txt` files containing key metadata from the LINCS L1000 dataset:\n",
    "\n",
    "- `compoundinfo_beta.txt`: includes compound names, IDs, and other chemical metadata.\n",
    "- `instinfo_beta.txt`: provides information about experimental instances, including dose, exposure time, and conditions.\n",
    "- `siginfo_beta.txt`: contains transcriptomic signature metadata, such as cell line and instance identifiers.\n",
    "\n",
    "These metadata tables are used to filter signatures related to vitamin D compounds."
   ]
  },
  {
   "cell_type": "code",
   "execution_count": null,
   "id": "fff9195c",
   "metadata": {},
   "outputs": [],
   "source": [
    "# Load metadata files from raw_data (gzipped and renamed)\n",
    "comp_df = pd.read_csv(\"../raw_data/compoundinfo_beta.txt\", sep=\"\\t\", low_memory=False)\n",
    "inst_df = pd.read_csv(\"../raw_data/instinfo_beta.txt\", sep=\"\\t\", low_memory=False)\n",
    "siginfo_df = pd.read_csv(\"../raw_data/siginfo_beta.txt\", sep=\"\\t\", low_memory=False)\n"
   ]
  },
  {
   "cell_type": "markdown",
   "id": "4a529312",
   "metadata": {},
   "source": [
    "### Identifying Vitamin D-related Compounds and Experimental Conditions\n",
    "\n",
    "We perform a broad keyword search across all compound metadata fields to identify entries related to vitamin D or its analogs. \n",
    "\n",
    "After extracting the corresponding `pert_id` values, we filter the experimental conditions (`instinfo_beta.txt`) and summarize:\n",
    "\n",
    "- The most frequent compounds\n",
    "- The most represented cell lines\n",
    "- The most common exposure times\n",
    "\n",
    "This sets the foundation for selecting a biologically meaningful and well-supported subset for transcriptomic analysis."
   ]
  },
  {
   "cell_type": "code",
   "execution_count": null,
   "id": "46789865",
   "metadata": {},
   "outputs": [],
   "source": [
    "# Step 1: Perform a wide keyword match across all compound columns to capture vitamin D-related entries\n",
    "mask = comp_df.apply(\n",
    "    lambda row: row.astype(str).str.contains(\"vitamin d|vdr|calcitriol|calciferol\", \n",
    "                                             case=False, na=False).any(), \n",
    "    axis=1\n",
    ")\n",
    "\n",
    "# Step 2: Extract unique pert_id values for all matched vitamin D-related compounds\n",
    "vdr_pert_ids = comp_df[mask][\"pert_id\"].unique()\n",
    "\n",
    "# Step 3: Filter experimental conditions that involve any of the selected vitamin D compounds\n",
    "subset_vdr = inst_df[inst_df[\"pert_id\"].isin(vdr_pert_ids)]\n",
    "\n",
    "# Step 4: Summarize experimental conditions by compound, cell line, and exposure time\n",
    "print(f\"Total experimental conditions: {len(subset_vdr)}\")\n",
    "\n",
    "print(\"\\nMost common compounds:\")\n",
    "print(subset_vdr[\"cmap_name\"].value_counts().head(10))\n",
    "\n",
    "print(\"\\nMost common cell lines:\")\n",
    "print(subset_vdr[\"cell_iname\"].value_counts().head(5))\n",
    "\n",
    "print(\"\\nMost common exposure times:\")\n",
    "print(subset_vdr[\"pert_time\"].value_counts().head(5))"
   ]
  },
  {
   "cell_type": "markdown",
   "id": "57fa7584",
   "metadata": {},
   "source": [
    "From the 5,919 experimental conditions involving Vitamin D-related compounds:\n",
    "\n",
    "- **Compounds**: The top 7 most represented are:\n",
    "  - *Calcitriol, Calcipotriol, Maxacalcitol, Seocalcitol, Ercalcitriol, Tacalcitol, Paricalcitol*\n",
    "  - These analogs are clinically or experimentally relevant, covering dermatology, oncology, nephrology, and experimental VDR modulation.\n",
    "  \n",
    "- **Exposure time**: \n",
    "  - *24 hours* is by far the most frequent condition (4,352 out of 5,919), ensuring consistency for transcriptomic comparisons.\n",
    "\n",
    "- **Cell lines**: \n",
    "  - The 5 most represented (*MCF7, A549, PC3, HA1E, U2OS*) span epithelial, lung, prostate, kidney, and bone origin, offering biological diversity while maintaining data density.\n",
    "\n",
    "> Based on this, we define our core subset using:  \n",
    "> **7 compounds × 5 cell lines × 24h exposure**  \n",
    "This balances representativeness, biological relevance, and statistical robustness.\n"
   ]
  },
  {
   "cell_type": "code",
   "execution_count": null,
   "id": "1c1d66dc",
   "metadata": {},
   "outputs": [],
   "source": [
    "# Cross-tab of compound × cell line at 24h to check coverage before subsetting\n",
    "subset_24h = subset_vdr[subset_vdr[\"pert_time\"] == 24.0]\n",
    "pd.crosstab(subset_24h[\"cmap_name\"], subset_24h[\"cell_iname\"]).loc[\n",
    "    [\"calcitriol\", \"calcipotriol\", \"maxacalcitol\", \"seocalcitol\",\n",
    "     \"ercalcitriol\", \"tacalcitol\", \"paricalcitol\"],\n",
    "    [\"MCF7\", \"A549\", \"PC3\", \"HA1E\", \"U2OS\"]\n",
    "]"
   ]
  },
  {
   "cell_type": "markdown",
   "id": "d1f4c452",
   "metadata": {},
   "source": [
    "### Subset design decisions\n",
    "\n",
    "To ensure a representative and balanced experimental subset, we checked coverage across the 7 selected vitamin D-related compounds and the 5 most frequent cell lines, restricted to 24h exposure.\n",
    "\n",
    "All compound–cell line combinations are present except:\n",
    "- **Maxacalcitol–U2OS**: 0 conditions\n",
    "- **Paricalcitol–U2OS**: 0 conditions\n",
    "\n",
    "We chose to **keep U2OS** in the final subset, as:\n",
    "- It is well represented across other compounds (e.g., Calcitriol, Calcipotriol)\n",
    "- It provides biological diversity (bone origin, relevant to vitamin D)\n",
    "- Slight gaps in factorial coverage are acceptable in real-world HTS data\n",
    "\n",
    "> Final design: **7 compounds × 5 cell lines × 24h exposure** (minus 2 missing combinations)"
   ]
  },
  {
   "cell_type": "code",
   "execution_count": null,
   "id": "1d5d5ef7",
   "metadata": {},
   "outputs": [],
   "source": [
    "# Define selected compounds, cell lines, and exposure time\n",
    "selected_compounds = [\n",
    "    \"calcitriol\", \"calcipotriol\", \"maxacalcitol\", \"seocalcitol\",\n",
    "    \"ercalcitriol\", \"tacalcitol\", \"paricalcitol\"\n",
    "]\n",
    "selected_cells = [\"MCF7\", \"A549\", \"PC3\", \"HA1E\", \"U2OS\"]\n",
    "\n",
    "# Filter dataset\n",
    "subset_final = subset_vdr[\n",
    "    (subset_vdr[\"cmap_name\"].isin(selected_compounds)) &\n",
    "    (subset_vdr[\"cell_iname\"].isin(selected_cells)) &\n",
    "    (subset_vdr[\"pert_time\"] == 24.0)\n",
    "].copy()\n",
    "\n",
    "# Save to CSV\n",
    "subset_final.to_csv(\"../processed_data/instinfo_vitD_subset.csv\", index=False)\n",
    "\n",
    "# Summary\n",
    "print(f\"Final subset saved: {len(subset_final)} conditions\")\n"
   ]
  },
  {
   "cell_type": "code",
   "execution_count": null,
   "id": "3e2abe6c",
   "metadata": {},
   "outputs": [],
   "source": [
    "# Most common doses per compound\n",
    "dose_summary = subset_final.groupby(\"cmap_name\")[\"pert_dose\"].value_counts().unstack().fillna(0).astype(int)\n",
    "\n",
    "# Display dose counts by compound\n",
    "dose_summary"
   ]
  },
  {
   "cell_type": "markdown",
   "id": "9c1f26da",
   "metadata": {},
   "source": [
    "### Notes on dose selection\n",
    "\n",
    "Doses in the LINCS dataset are highly variable, including unusual values (e.g., 0.769231 or 2.307690 µM), which likely result from compound-specific adjustments.\n",
    "\n",
    "For now, we do **not treat dose as a primary variable**, but we retain all conditions to preserve sample size.\n",
    "\n",
    "> In future analyses, we may group doses into:\n",
    "> - **Low dose**: < 1 µM  \n",
    "> - **High dose**: ≥ 1 µM  \n",
    "to reduce noise and account for potential nonlinear responses."
   ]
  },
  {
   "cell_type": "code",
   "execution_count": null,
   "id": "e7e22da6",
   "metadata": {},
   "outputs": [],
   "source": [
    "# Create a unique merge key in both dataframes\n",
    "subset_final[\"merge_key\"] = subset_final[\"pert_id\"] + \"_\" + subset_final[\"cell_iname\"] + \"_\" + subset_final[\"pert_time\"].astype(str)\n",
    "siginfo_df[\"merge_key\"] = siginfo_df[\"pert_id\"] + \"_\" + siginfo_df[\"cell_iname\"] + \"_\" + siginfo_df[\"pert_time\"].astype(str)\n",
    "\n",
    "# Filter signature metadata to match selected experimental conditions\n",
    "siginfo_vitD = siginfo_df[siginfo_df[\"merge_key\"].isin(subset_final[\"merge_key\"])].copy()\n",
    "\n",
    "# Summary\n",
    "print(f\"Signature entries matched: {len(siginfo_vitD)}\")"
   ]
  },
  {
   "cell_type": "code",
   "execution_count": null,
   "id": "78ac1a42",
   "metadata": {},
   "outputs": [],
   "source": [
    "# Filter signatures with at least 3 replicates\n",
    "siginfo_vitD_clean = siginfo_vitD[siginfo_vitD[\"nsample\"] >= 3].copy()\n",
    "\n",
    "# Save filtered signature metadata\n",
    "siginfo_vitD_clean.to_csv(\"../processed_data/siginfo_vitD_filtered.csv\", index=False)\n",
    "\n",
    "# Save list of retained sig_id values\n",
    "siginfo_vitD_clean[\"sig_id\"].to_csv(\"../processed_data/sig_ids_vitD_filtered.txt\", index=False, header=False)\n",
    "\n",
    "# Summary\n",
    "print(f\"Signatures retained after filtering: {len(siginfo_vitD_clean)}\")"
   ]
  },
  {
   "cell_type": "markdown",
   "id": "b7c79bff",
   "metadata": {},
   "source": [
    "To ensure data quality, we filtered the 422 matched signatures to retain only those with **at least 3 biological replicates** (`nsample ≥ 3`).\n",
    "\n",
    "This threshold improves the robustness and reproducibility of downstream analyses by excluding noisy or weakly supported signatures.\n",
    "\n",
    "- **Signatures retained**: 258  \n",
    "- **Signatures excluded**: 164 (due to low replicate count)\n",
    "\n",
    "> The final list of `sig_id` values was saved and will be used to extract expression data from the Level 5 matrix.\n"
   ]
  },
  {
   "cell_type": "code",
   "execution_count": null,
   "id": "8a03834e",
   "metadata": {},
   "outputs": [],
   "source": [
    "# Load the list of filtered sig_ids (one per line, no header)\n",
    "sig_ids = pd.read_csv(\"../processed_data/sig_ids_vitD_filtered.txt\", header=None)[0].tolist()\n",
    "\n",
    "# Path to the Level 5 GCTX expression matrix\n",
    "gctx_file = r\"../raw_data/level5_beta_trt_cp_n720216x12328.gctx\"\n",
    "\n",
    "# Parse the GCTX file and load only the selected columns (signatures)\n",
    "gctoo = parse_gctx.parse(gctx_file, cid=sig_ids)\n",
    "\n",
    "# Extract the expression matrix (rows: genes, columns: sig_ids)\n",
    "expression_df = gctoo.data_df\n",
    "\n",
    "# Save matrix to CSV (can be large)\n",
    "expression_df.to_csv(\"../processed_data/vitD_expression_matrix.csv\")\n",
    "\n",
    "# Print shape for confirmation\n",
    "print(f\"Expression matrix shape: {expression_df.shape}\")"
   ]
  },
  {
   "cell_type": "markdown",
   "id": "f1687f53",
   "metadata": {},
   "source": [
    "### Summary and Next Steps\n",
    "\n",
    "- 258 clean signatures related to vitamin D across 5 cell lines and 7 compounds.\n",
    "- Expression matrix (`vitD_expression_matrix.csv`) saved for downstream analysis.\n",
    "- Next step: Exploratory Data Analysis (EDA) of the expression profiles."
   ]
  }
 ],
 "metadata": {
  "kernelspec": {
   "display_name": "vitd_env (3.11.8)",
   "language": "python",
   "name": "python3"
  },
  "language_info": {
   "codemirror_mode": {
    "name": "ipython",
    "version": 3
   },
   "file_extension": ".py",
   "mimetype": "text/x-python",
   "name": "python",
   "nbconvert_exporter": "python",
   "pygments_lexer": "ipython3",
   "version": "3.11.8"
  }
 },
 "nbformat": 4,
 "nbformat_minor": 5
}
